{
  "nbformat": 4,
  "nbformat_minor": 0,
  "metadata": {
    "colab": {
      "provenance": []
    },
    "kernelspec": {
      "name": "python3",
      "display_name": "Python 3"
    },
    "language_info": {
      "name": "python"
    }
  },
  "cells": [
    {
      "cell_type": "markdown",
      "metadata": {
        "id": "H_tf5AfJhiEV"
      },
      "source": [
        "## Psudocode \n",
        "\n",
        "\n",
        "```\n",
        "function encrypt(plaintext,key)\n",
        "  result = calculate_cipher(plaintext,key)\n",
        "return result\n",
        "\n",
        "function decrypt(plaintext,key)\n",
        "  result = calculate_cipher(plaintext,-key)\n",
        "return result\n",
        "\n",
        "function calculate_cipher(plaintext,key)\n",
        "  initialize result to null\n",
        "  for i = 0 to array length plaintext -1\n",
        "    calcualte index number\n",
        "    new index number = index number + key\n",
        "    calculate character\n",
        "    result = result + character\n",
        "return result\n",
        "\n",
        "Begin\n",
        "input plaintext\n",
        "input key\n",
        "assign ciphertext = calculate_cipher(plaintext,key)\n",
        "assign orignal_text = calculate_cipher(ciphertext, -key)\n",
        "print plaintext\n",
        "print key\n",
        "print ciphertext\n",
        "print orignal_text\n",
        "End\n",
        "\n",
        "```\n",
        "\n",
        "\n"
      ]
    },
    {
      "cell_type": "code",
      "metadata": {
        "id": "EFbJ9Pb0iFKR"
      },
      "source": [],
      "execution_count": null,
      "outputs": []
    },
    {
      "cell_type": "code",
      "metadata": {
        "colab": {
          "base_uri": "https://localhost:8080/"
        },
        "id": "DMT3NC5NSWL0",
        "outputId": "5551a44d-dadf-4b08-eb42-6272043ba312"
      },
      "source": [
        "# Caesar cipher algorithm\n",
        "\n",
        "def encrypt(plaintext,key):\n",
        "  result = calculate_cipher(plaintext,key)\n",
        "  return result\n",
        "\n",
        "def decrypt(plaintext,key):\n",
        "  result = calculate_cipher(plaintext,-key)\n",
        "  return result\n",
        "\n",
        "def calculate_cipher(plaintext,key):\n",
        "  result = \"\"\n",
        "  for i in range(len(plaintext)):\n",
        "    char = plaintext[i]\n",
        "    uni_code = ord(char)\n",
        "    if (char.isupper()):\n",
        "      num_case = 65\n",
        "    else:\n",
        "      num_case = 97\n",
        "    num = (uni_code + key - num_case) % 26 + num_case  \n",
        "    result += chr(num)\n",
        "  return result\n",
        "\n",
        "plaintext = \"hellohowareyou\"\n",
        "key = 4\n",
        "print(\"Plain Text: \" + plaintext)\n",
        "print(\"Key: \" + str(key))\n",
        "ciphertext = encrypt(plaintext,key)\n",
        "print(\"Ciphertext: \" + ciphertext)\n",
        "new_plaintext = decrypt(ciphertext, key)\n",
        "print(\"After decryption, Plaintext: \" + new_plaintext)"
      ],
      "execution_count": null,
      "outputs": [
        {
          "output_type": "stream",
          "name": "stdout",
          "text": [
            "Plain Text: hellohowareyou\n",
            "Key: 4\n",
            "Ciphertext: lippslsaevicsy\n",
            "After decryption, Plaintext: hellohowareyou\n"
          ]
        }
      ]
    },
    {
      "cell_type": "code",
      "metadata": {
        "colab": {
          "base_uri": "https://localhost:8080/"
        },
        "id": "rhwwaaYDg78b",
        "outputId": "3466a2f3-44b3-409b-b512-0521d52ee51a"
      },
      "source": [
        "# Caesar cipher algorithm\n",
        "\n",
        "def encrypt(plaintext,key):\n",
        "  result = \"\"\n",
        "  for i in range(len(plaintext)):\n",
        "    char = plaintext[i]\n",
        "    if char == ' ' or char == ',' or char == '.' or char == '?' or char == '!':\n",
        "      result += char\n",
        "      continue\n",
        "    uni_code = ord(char)\n",
        "    if (char.isupper()):\n",
        "      num_case = 65\n",
        "    else:\n",
        "      num_case = 97\n",
        "    num = (uni_code + key - num_case) % 26 + num_case  \n",
        "    result += chr(num)\n",
        "  return result\n",
        "\n",
        "def decrypt(ciphertext , key):\n",
        "  result = \"\"\n",
        "  for i in range(len(ciphertext)):\n",
        "    char = ciphertext[i]\n",
        "    if char == ' ' or char == ',' or char == '.' or char == '?' or char == '!':\n",
        "      result += char\n",
        "      continue\n",
        "    uni_code = ord(char)\n",
        "    if (char.isupper()):\n",
        "      num_case = 65\n",
        "    else:\n",
        "      num_case = 97\n",
        "    num = (uni_code - key - num_case) % 26 + num_case  \n",
        "    result += chr(num)\n",
        "  return result\n",
        "\n",
        "plaintext = \"heLLo, How? ARe You.\"\n",
        "key = 4\n",
        "print(\"Plain Text: \" + plaintext)\n",
        "print(\"Key: \" + str(key))\n",
        "ciphertext = encrypt(plaintext,key)\n",
        "print(\"Ciphertext: \" + ciphertext)\n",
        "new_plaintext = decrypt(ciphertext,key)\n",
        "print(\"After decryption, Plaintext: \" + new_plaintext)"
      ],
      "execution_count": null,
      "outputs": [
        {
          "output_type": "stream",
          "name": "stdout",
          "text": [
            "Plain Text: heLLo, How? ARe You.\n",
            "Key: 4\n",
            "Ciphertext: liPPs, Lsa? EVi Csy.\n",
            "After decryption, Plaintext: heLLo, How? ARe You.\n"
          ]
        }
      ]
    },
    {
      "cell_type": "code",
      "metadata": {
        "colab": {
          "base_uri": "https://localhost:8080/"
        },
        "id": "ARdfNmtZCPNk",
        "outputId": "b995a187-e943-4baf-a0eb-cca82dc18e01"
      },
      "source": [
        "def string_to_string_list(string):\n",
        "  output = []\n",
        "  for character in string:\n",
        "    output.append(character)\n",
        "  return output\n",
        "\n",
        "def string_list_to_index_list(string):\n",
        "  character = ['a', 'b', 'c', 'd', 'e', 'f', 'g', 'h', 'i', 'j', 'k', 'l', 'm', 'n', 'o', 'p', 'q','r', 's', 't', 'u', 'v', 'w', 'x', 'y', 'z']\n",
        "  output = []\n",
        "  for char in string:\n",
        "    if char == ' ':\n",
        "      index = 99\n",
        "    else:\n",
        "      index = character.index(char) + 1 # a = 0, become 1\n",
        "    output.append(index)\n",
        "  return output\n",
        "\n",
        "def index_list_to_string(num):\n",
        "  character = ['a', 'b', 'c', 'd', 'e', 'f', 'g', 'h', 'i', 'j', 'k', 'l', 'm', 'n', 'o', 'p', 'q','r', 's', 't', 'u', 'v', 'w', 'x', 'y', 'z']\n",
        "  res = \"\"\n",
        "  for i in range(0, len(num)):\n",
        "    if num[i] == 99:\n",
        "      res = res + ' '\n",
        "    else:  \n",
        "      res = res + character[num[i] - 1] # a = 1, index = 0\n",
        "  return res\n",
        "\n",
        "def string_list_to_string(stringList):\n",
        "  output = ''\n",
        "  for s in stringList:\n",
        "    output = output + s\n",
        "  return output\n",
        "\n",
        "def encrypt(plaintext, key):\n",
        "  output = []\n",
        "  plaintext_list = string_to_string_list(plaintext)\n",
        "  plaintext_indexlist = string_list_to_index_list(plaintext_list)\n",
        "  for i in plaintext_indexlist:\n",
        "    if i == 99: # space\n",
        "      index = i\n",
        "    else:  \n",
        "      index = i + key\n",
        "      if index > 26:\n",
        "        index = index % 26\n",
        "    output.append(index)\n",
        "  return output\n",
        "\n",
        "def decrypt(ciphertext, key):\n",
        "  output = []\n",
        "  ciphertext_list = string_to_string_list(ciphertext)\n",
        "  ciphertext_indexlist = string_list_to_index_list(ciphertext_list)\n",
        "  for char in ciphertext_indexlist:\n",
        "    if char == 99: # space\n",
        "      index = char\n",
        "    else:\n",
        "      if char - key < 0:\n",
        "        index = 26 - (key - char)\n",
        "      else:\n",
        "        index = char - (key)\n",
        "    output.append(index)\n",
        "  return output\n",
        "\n",
        "# caesar cipher\n",
        "\n",
        "plaintext = \"hello how are you\"\n",
        "\n",
        "key = 2\n",
        "\n",
        "print(\"plaintext: \" + plaintext)\n",
        "print(\"key: \" + str(key))\n",
        "\n",
        "# encypt\n",
        "\n",
        "ciphertext = index_list_to_string(encrypt(plaintext, key))\n",
        "print(\"ciphertext: \" + ciphertext)\n",
        "\n",
        "decrypttext = index_list_to_string(decrypt(ciphertext, key))\n",
        "print(\"after decrypt, plaintext: \" + decrypttext)\n",
        "\n"
      ],
      "execution_count": null,
      "outputs": [
        {
          "output_type": "stream",
          "name": "stdout",
          "text": [
            "plaintext: hello how are you\n",
            "key: 2\n",
            "ciphertext: jgnnq jqy ctg aqw\n",
            "after decrypt, plaintext: hello how are you\n"
          ]
        }
      ]
    },
    {
      "cell_type": "code",
      "metadata": {
        "colab": {
          "base_uri": "https://localhost:8080/"
        },
        "id": "Qiwl5RqTPNZl",
        "outputId": "9baeac7b-eb53-4fc9-d765-92a2e27ec794"
      },
      "source": [
        "def string_to_string_list(string):\n",
        "  output = []\n",
        "  for character in string:\n",
        "    output.append(character)\n",
        "  return output\n",
        "\n",
        "def string_list_to_index_list(string):\n",
        "  character = ['a', 'b', 'c', 'd', 'e', 'f', 'g', 'h', 'i', 'j', 'k', 'l', 'm', 'n', 'o', 'p', 'q','r', 's', 't', 'u', 'v', 'w', 'x', 'y', 'z']\n",
        "  output = []\n",
        "  for char in string:\n",
        "    index = character.index(char) + 1 # a = 0, become 1\n",
        "    output.append(index)\n",
        "  return output\n",
        "\n",
        "def index_list_to_string(num):\n",
        "  character = ['a', 'b', 'c', 'd', 'e', 'f', 'g', 'h', 'i', 'j', 'k', 'l', 'm', 'n', 'o', 'p', 'q','r', 's', 't', 'u', 'v', 'w', 'x', 'y', 'z']\n",
        "  res = \"\"\n",
        "  for i in range(0, len(num)):  \n",
        "    res = res + character[num[i] - 1] # a = 1, index = 0\n",
        "  return res\n",
        "\n",
        "def string_list_to_string(stringList):\n",
        "  output = ''\n",
        "  for s in stringList:\n",
        "    output = output + s\n",
        "  return output\n",
        "\n",
        "def encrypt(plaintext, key):\n",
        "  output = []\n",
        "  plaintext_list = string_to_string_list(plaintext)\n",
        "  plaintext_indexlist = string_list_to_index_list(plaintext_list)\n",
        "  for i in plaintext_indexlist:\n",
        "    index = i + key\n",
        "    if index > 26:\n",
        "      index = index % 26\n",
        "    output.append(index)\n",
        "  return output\n",
        "\n",
        "def decrypt(ciphertext, key):\n",
        "  output = []\n",
        "  ciphertext_list = string_to_string_list(ciphertext)\n",
        "  ciphertext_indexlist = string_list_to_index_list(ciphertext_list)\n",
        "  for char in ciphertext_indexlist:\n",
        "    if char - key < 0:\n",
        "      index = 26 - (key - char)\n",
        "    else:\n",
        "      index = char - (key)\n",
        "    output.append(index)\n",
        "  return output\n",
        "\n",
        "# caesar cypher\n",
        "# plaintext no space\n",
        "plaintext = \"hellohowareyou\"\n",
        "\n",
        "key = 2\n",
        "\n",
        "print(\"plaintext: \" + plaintext)\n",
        "print(\"key: \" + str(key))\n",
        "\n",
        "# encypt\n",
        "\n",
        "ciphertext = index_list_to_string(encrypt(plaintext, key))\n",
        "print(\"ciphertext: \" + ciphertext)\n",
        "\n",
        "decrypttext = index_list_to_string(decrypt(ciphertext, key))\n",
        "print(\"after decrypt, plaintext: \" + decrypttext)\n",
        "\n"
      ],
      "execution_count": null,
      "outputs": [
        {
          "output_type": "stream",
          "name": "stdout",
          "text": [
            "plaintext: hellohowareyou\n",
            "key: 2\n",
            "ciphertext: jgnnqjqyctgaqw\n",
            "after decrypt, plaintext: hellohowareyou\n"
          ]
        }
      ]
    }
  ]
}